{
 "cells": [
  {
   "cell_type": "markdown",
   "metadata": {},
   "source": [
    "#  génération de la clé publique et privée"
   ]
  },
  {
   "cell_type": "code",
   "execution_count": null,
   "metadata": {},
   "outputs": [],
   "source": [
    "!openssl ecparam -genkey -name prime192v3 -out sk.pem\n",
    "!openssl ec -in sk.pem -pubout -out pk.pem"
   ]
  },
  {
   "cell_type": "markdown",
   "metadata": {},
   "source": [
    "# signature avec la clé privée"
   ]
  },
  {
   "cell_type": "code",
   "execution_count": 8,
   "metadata": {},
   "outputs": [],
   "source": [
    "!openssl dgst -sha256 -sign sk.pem -hex -out login-signature.hex login-challenge.txt"
   ]
  },
  {
   "cell_type": "code",
   "execution_count": 7,
   "metadata": {},
   "outputs": [
    {
     "name": "stdout",
     "output_type": "stream",
     "text": [
      "login-signature.txt: No such file or directory\n",
      "802BAC3E2D700000:error:80000002:system library:file_ctrl:No such file or directory:../crypto/bio/bss_file.c:297:calling fopen(login-signature.txt, r)\n",
      "802BAC3E2D700000:error:10080002:BIO routines:file_ctrl:system lib:../crypto/bio/bss_file.c:300:\n"
     ]
    }
   ],
   "source": [
    "!openssl dgst -sha256 -sign sk.pem -hex -out login-signature.hex login-challenge.txt"
   ]
  },
  {
   "cell_type": "code",
   "execution_count": 11,
   "metadata": {},
   "outputs": [
    {
     "name": "stdout",
     "output_type": "stream",
     "text": [
      "30350218544ff853d8912ae1f8f494fd889b0a2b5dee82eb1d69f161021900cd0a5d74aa8f1a2d9051465aab266f4b645e769ef3e4648c\n"
     ]
    }
   ],
   "source": [
    "!echo -n \"bones grody spiny julep adage\" | openssl dgst -sha256 -sign sk.pem | xxd -p -c 256 "
   ]
  },
  {
   "cell_type": "code",
   "execution_count": null,
   "metadata": {},
   "outputs": [],
   "source": []
  }
 ],
 "metadata": {
  "kernelspec": {
   "display_name": "Python 3",
   "language": "python",
   "name": "python3"
  },
  "language_info": {
   "codemirror_mode": {
    "name": "ipython",
    "version": 3
   },
   "file_extension": ".py",
   "mimetype": "text/x-python",
   "name": "python",
   "nbconvert_exporter": "python",
   "pygments_lexer": "ipython3",
   "version": "3.10.12"
  }
 },
 "nbformat": 4,
 "nbformat_minor": 2
}
