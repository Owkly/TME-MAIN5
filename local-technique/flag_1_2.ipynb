{
 "cells": [
  {
   "cell_type": "markdown",
   "metadata": {},
   "source": [
    "#  génération de la clé publique et privée"
   ]
  },
  {
   "cell_type": "code",
   "execution_count": null,
   "metadata": {},
   "outputs": [],
   "source": [
    "!openssl ecparam -genkey -name prime192v3 -out sk.pem\n",
    "!openssl ec -in sk.pem -pubout -out pk.pem"
   ]
  },
  {
   "cell_type": "markdown",
   "metadata": {},
   "source": [
    "# signature avec la clé privée"
   ]
  },
  {
   "cell_type": "code",
   "execution_count": 8,
   "metadata": {},
   "outputs": [],
   "source": [
    "!openssl dgst -sha256 -sign sk.pem -hex -out login-signature.hex login-challenge.txt"
   ]
  },
  {
   "cell_type": "code",
   "execution_count": 4,
   "metadata": {},
   "outputs": [
    {
     "name": "stdout",
     "output_type": "stream",
     "text": [
      "303402187343564e729b52451e0ea0b016c791199a0e4db7833e10a502187f640345484d078e2faee4799709fe5af15220d43edd89f2\n"
     ]
    }
   ],
   "source": [
    "!echo -n \"swede cache perms weedy gruff\" | openssl dgst -sha256 -sign sk.pem | xxd -p -c 256 "
   ]
  },
  {
   "cell_type": "code",
   "execution_count": null,
   "metadata": {},
   "outputs": [],
   "source": []
  },
  {
   "cell_type": "markdown",
   "metadata": {},
   "source": [
    "```bash\n",
    "\n",
    "3\n",
    "\n",
    "Q\n",
    "\n",
    "take downloader\n",
    "take micro-SD\n",
    "take chargeur\n",
    "take uploader\n",
    "use micro-SD\n",
    "\n",
    "exit\n",
    "ascenseur\n",
    "\n",
    "ouest\n",
    "ouest\n",
    "ouest\n",
    "sud\n",
    "entrer\n",
    "up\n",
    "est\n",
    "distributeur\n",
    "12\n",
    "take usb\n",
    "ouest```"
   ]
  },
  {
   "cell_type": "markdown",
   "metadata": {},
   "source": []
  }
 ],
 "metadata": {
  "kernelspec": {
   "display_name": "Python 3",
   "language": "python",
   "name": "python3"
  },
  "language_info": {
   "codemirror_mode": {
    "name": "ipython",
    "version": 3
   },
   "file_extension": ".py",
   "mimetype": "text/x-python",
   "name": "python",
   "nbconvert_exporter": "python",
   "pygments_lexer": "ipython3",
   "version": "3.10.12"
  }
 },
 "nbformat": 4,
 "nbformat_minor": 2
}
