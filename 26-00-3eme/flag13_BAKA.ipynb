{
 "cells": [
  {
   "cell_type": "code",
   "execution_count": null,
   "metadata": {},
   "outputs": [],
   "source": [
    "import random\n",
    "\n",
    "N = int(\"ba4530d0c5d4094f4557699683a69dcac790935e0d8ed82451920f73b7c05c0873e8a9650020f1a1783e7256237a10e37f27762808e651ac5348a2a7f4d5c073d0350ba88525f96eec5e8974012a0241c0564af6f1e58a1f52c93c7446742deb1815ffcc3d21fb5141d1d765662b14d5089a3a647749ad7be7175f4eed215327\", 16)\n",
    "e = 0x10001\n",
    "\n",
    "J = int(\"396563303131383430626138613962373938316335373962643133303561663639333935643431613765663365616331326635663730373762356439616335662d2d2d2d2d2d2d2d2d2d2d2d2d2d2d2d202020202020202020202020202020202020202020202020202020202020202020202020202020202059616e6e69636b\", 16)\n",
    "\n",
    "# Étape 1: choisir y de manière arbitraire\n",
    "y = random.randint(1, N - 1)\n",
    "\n",
    "# Étape 2: calculer un x correspondant selon la formule x = (y**e) * (J**-c) mod N\n",
    "c = int(\"7c18698faa11155acf710fe50bff86474cdd391b13b258b6b838a7d52008ff42d705f5643f80973270f6ee9b7e02054b2a685159cfb46ced49b001fa036c426cf3ad2d96b8f6c963dfb84e1566a7df607038c5a7c9cd7c81e847aa5ef71657fc1e3f999d538b2a01054d6c2e6c098585a55deaa05c08267e3570994d9a2e0770\", 16)\n",
    "J_c_inverse = pow(J, -c, N)\n",
    "x = (pow(y, e, N) * J_c_inverse) % N"
   ]
  },
  {
   "cell_type": "code",
   "execution_count": 3,
   "metadata": {},
   "outputs": [
    {
     "name": "stdout",
     "output_type": "stream",
     "text": [
      "0x6c60501b31524e3d9971dd19cf0de49a762080b58f03e73a0958bb7df2f780b53b8adf0502a6c62f9b33f5f5ce3b0b5dd2e7bb09d9cc834fa062b35bb2393937a63fec3c7eab9525e55c92fd3dcb6569b208c15b8739de55262af0aa99852605d43a29904213dbb53b8d7cab2af7f0bf2ad42fb0ca4001ea791a5a65199e54de\n"
     ]
    }
   ],
   "source": [
    "print(hex(x))"
   ]
  },
  {
   "cell_type": "code",
   "execution_count": 4,
   "metadata": {},
   "outputs": [
    {
     "name": "stdout",
     "output_type": "stream",
     "text": [
      "0x9f089ed8250bb9f77f1d915b5cb0cb9cead082dd0df669c200ad3d8745b0b8f66e6c69fb1dc639a29540bc5d5010f65fcdc43f7646c2395ec43c6c24495fd1f22af12169c366b62d7a18b532db4a175ae40102d05abc8a1291c7273d85c754162fdee3cfd31c63f2991e54d5278b45065d46845753f5648ed6eef7c290f53d8\n"
     ]
    }
   ],
   "source": [
    "print(hex(y))"
   ]
  },
  {
   "cell_type": "code",
   "execution_count": null,
   "metadata": {},
   "outputs": [],
   "source": []
  }
 ],
 "metadata": {
  "kernelspec": {
   "display_name": "Python 3",
   "language": "python",
   "name": "python3"
  },
  "language_info": {
   "codemirror_mode": {
    "name": "ipython",
    "version": 3
   },
   "file_extension": ".py",
   "mimetype": "text/x-python",
   "name": "python",
   "nbconvert_exporter": "python",
   "pygments_lexer": "ipython3",
   "version": "3.10.12"
  }
 },
 "nbformat": 4,
 "nbformat_minor": 2
}
