{
 "cells": [
  {
   "cell_type": "code",
   "execution_count": 1,
   "metadata": {},
   "outputs": [
    {
     "name": "stdout",
     "output_type": "stream",
     "text": [
      "Vérification des hachages:\n",
      "e99950f3d7b0e88ce4abb55e4107df787ee2785c7476740c249e47cd50dd83b7\n",
      "e99950f3d7b0e8bfbe526f4999994ab88ceab90fcdc08a2cd425daa5c0af7e2d\n",
      "\n",
      "Les deux points de collision sont :\n",
      "Point de collision 1 : 5279616e6e384c136b8bbefd\n",
      "Point de collision 2 : 5279616e6e615cde3bf87737\n"
     ]
    }
   ],
   "source": [
    "import hashlib\n",
    "\n",
    "nom = b\"Ryann\"\n",
    "valeur_initiale = b'1234'\n",
    "\n",
    "def fonction_hachage(valeur):\n",
    "    return hashlib.sha256(nom + valeur).digest()[:7]\n",
    "\n",
    "def algo_brent(fonction_hachage, valeur_initiale):\n",
    "    puissance = longueur_cycle = 1\n",
    "    valeur_lente = valeur_initiale\n",
    "    valeur_rapide = fonction_hachage(valeur_initiale)\n",
    "    while valeur_lente != valeur_rapide:\n",
    "        if puissance == longueur_cycle:\n",
    "            valeur_lente = valeur_rapide\n",
    "            puissance *= 2\n",
    "            longueur_cycle = 0\n",
    "        valeur_rapide = fonction_hachage(valeur_rapide)\n",
    "        longueur_cycle += 1\n",
    "\n",
    "    valeur_lente = valeur_rapide = valeur_initiale\n",
    "    for i in range(longueur_cycle):\n",
    "        valeur_rapide = fonction_hachage(valeur_rapide)\n",
    "\n",
    "    position_debut_cycle = 0\n",
    "    while valeur_lente != valeur_rapide:\n",
    "        valeur_lente = fonction_hachage(valeur_lente)\n",
    "        valeur_rapide = fonction_hachage(valeur_rapide)\n",
    "        position_debut_cycle += 1\n",
    "\n",
    "    return longueur_cycle, position_debut_cycle\n",
    "\n",
    "longueur_cycle, position_debut_cycle = algo_brent(fonction_hachage, valeur_initiale)\n",
    "\n",
    "# Calcul du premier point de collision\n",
    "for i in range(position_debut_cycle - 1):\n",
    "    valeur_initiale = fonction_hachage(valeur_initiale)\n",
    "point_de_collision_1 = valeur_initiale\n",
    "\n",
    "# Calcul du second point de collision\n",
    "for i in range(longueur_cycle):\n",
    "    valeur_initiale = fonction_hachage(valeur_initiale)\n",
    "point_de_collision_2 = valeur_initiale\n",
    "\n",
    "# Affichage des résultats\n",
    "print(\"Vérification des hachages:\")\n",
    "print(hashlib.sha256(nom + point_de_collision_1).hexdigest())\n",
    "print(hashlib.sha256(nom + point_de_collision_2).hexdigest())\n",
    "\n",
    "print(\"\\nLes deux points de collision sont :\")\n",
    "print(f\"Point de collision 1 : {(nom + point_de_collision_1).hex()}\")\n",
    "print(f\"Point de collision 2 : {(nom + point_de_collision_2).hex()}\")\n"
   ]
  }
 ],
 "metadata": {
  "kernelspec": {
   "display_name": "Python 3",
   "language": "python",
   "name": "python3"
  },
  "language_info": {
   "codemirror_mode": {
    "name": "ipython",
    "version": 3
   },
   "file_extension": ".py",
   "mimetype": "text/x-python",
   "name": "python",
   "nbconvert_exporter": "python",
   "pygments_lexer": "ipython3",
   "version": "3.10.12"
  }
 },
 "nbformat": 4,
 "nbformat_minor": 2
}
